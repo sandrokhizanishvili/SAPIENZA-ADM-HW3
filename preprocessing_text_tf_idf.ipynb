{
 "cells": [
  {
   "cell_type": "code",
   "execution_count": 31,
   "metadata": {},
   "outputs": [],
   "source": [
    "import pandas as pd\n",
    "import numpy as np\n",
    "\n",
    "import string\n",
    "\n",
    "# import nltk\n",
    "from nltk.corpus import stopwords\n",
    "from nltk.tokenize import word_tokenize\n",
    "from nltk.stem import PorterStemmer, WordNetLemmatizer\n",
    "\n",
    "import os\n",
    "\n",
    "from tqdm.notebook import tqdm\n",
    "\n",
    "from sklearn.feature_extraction.text import TfidfVectorizer\n",
    "from sklearn.metrics.pairwise import cosine_similarity\n",
    "\n",
    "# nltk.download('stopwords')\n",
    "# nltk.download('punkt')"
   ]
  },
  {
   "cell_type": "code",
   "execution_count": 26,
   "metadata": {},
   "outputs": [
    {
     "name": "stdout",
     "output_type": "stream",
     "text": [
      "Stemmed Processed Description: best italian restaur citi offer delici pasta pizza fresh ingredi experi cozi atmospher enjoy unforgett meal\n",
      "Lemmatized Processed Description: best italian restaurant city offering delicious pasta pizza fresh ingredient experience cozy atmosphere enjoy unforgettable meal\n"
     ]
    }
   ],
   "source": [
    "# Initialize stopwords, stemmer, and punctuation\n",
    "stop_words = set(stopwords.words(\"english\"))\n",
    "stemmer = PorterStemmer()\n",
    "punctuation = string.punctuation\n",
    "\n",
    "# Sample restaurant description\n",
    "restaurant_description = \"\"\"\n",
    "The best Italian restaurant in the city, offering delicious pasta and pizza with fresh ingredients.\n",
    "Experience a cozy atmosphere and enjoy an unforgettable meal!\n",
    "\"\"\"\n",
    "\n",
    "# Convert the description to lowercase\n",
    "text = restaurant_description.lower()\n",
    "\n",
    "# Tokenize the text into words\n",
    "words = word_tokenize(text)\n",
    "\n",
    "# Clean the words: Remove stopwords, punctuation, and apply stemming\n",
    "processed_words = [\n",
    "    stemmer.stem(word)  # Apply stemming\n",
    "    for word in words\n",
    "    if word not in stop_words and word not in punctuation and word.isalnum()  # Remove stopwords and punctuation\n",
    "]\n",
    "\n",
    "# Join the cleaned words back into a single string\n",
    "processed_text = ' '.join(processed_words)\n",
    "\n",
    "print(\"Stemmed Processed Description:\", processed_text)\n",
    "\n",
    "# Optional: Lemmatization for better accuracy (after stemming, if needed)\n",
    "lemmatizer = WordNetLemmatizer()\n",
    "\n",
    "# Applying lemmatization (optional but can improve accuracy)\n",
    "lemmatized_words = [\n",
    "    lemmatizer.lemmatize(word)  # Apply lemmatization\n",
    "    for word in words\n",
    "    if word not in stop_words and word not in punctuation and word.isalnum()  # Remove stopwords and punctuation\n",
    "]\n",
    "\n",
    "\n",
    "# Join lemmatized words back into a string\n",
    "final_text = ' '.join(lemmatized_words)\n",
    "\n",
    "print(\"Lemmatized Processed Description:\", final_text)\n"
   ]
  },
  {
   "cell_type": "code",
   "execution_count": 32,
   "metadata": {},
   "outputs": [],
   "source": [
    "def preprocess_text(text):\n",
    "\n",
    "    # Initialize stopwords, stemmer, and punctuation\n",
    "    stop_words = set(stopwords.words(\"english\"))\n",
    "    stemmer = PorterStemmer()\n",
    "\n",
    "    # Convert to lowercase\n",
    "    text = text.lower()\n",
    "    # Tokenize\n",
    "    words = word_tokenize(text)\n",
    "    # Remove stopwords, punctuation, and apply stemming\n",
    "    processed_words = [\n",
    "        stemmer.stem(word)  # Apply stemming\n",
    "        for word in words\n",
    "        if word not in stop_words and word not in string.punctuation and word.isalnum()\n",
    "    ]\n",
    "    return ' '.join(processed_words)"
   ]
  },
  {
   "cell_type": "code",
   "execution_count": 33,
   "metadata": {},
   "outputs": [
    {
     "data": {
      "application/vnd.jupyter.widget-view+json": {
       "model_id": "f75043b700ad4f9293451dfd368cb11b",
       "version_major": 2,
       "version_minor": 0
      },
      "text/plain": [
       "HBox(children=(HTML(value=''), FloatProgress(value=0.0, max=1982.0), HTML(value='')))"
      ]
     },
     "metadata": {},
     "output_type": "display_data"
    },
    {
     "name": "stdout",
     "output_type": "stream",
     "text": [
      "\n"
     ]
    }
   ],
   "source": [
    "# List of file paths (or you can use a pattern to match all TSV files)\n",
    "file_paths = os.listdir('restaurants_parsed_data')  # Replace with your actual file names or paths\n",
    "file_paths = ['restaurants_parsed_data/' + i for i in file_paths]\n",
    "\n",
    "# Read all files and store them in a list of DataFrames\n",
    "dfs = [pd.read_csv(file, sep='\\t') for file in tqdm(file_paths)]\n",
    "\n",
    "# Concatenate all DataFrames into one\n",
    "df = pd.concat(dfs, ignore_index=True)"
   ]
  },
  {
   "cell_type": "code",
   "execution_count": 34,
   "metadata": {},
   "outputs": [],
   "source": [
    "restaurant_descriptions = df['description'].values\n",
    "query = \"modern seasonal cuisine\""
   ]
  },
  {
   "cell_type": "code",
   "execution_count": 35,
   "metadata": {},
   "outputs": [],
   "source": [
    "processed_descriptions = [preprocess_text(description) for description in restaurant_descriptions]\n",
    "processed_query = preprocess_text(query)"
   ]
  },
  {
   "cell_type": "code",
   "execution_count": 36,
   "metadata": {},
   "outputs": [],
   "source": [
    "corpus = processed_descriptions + [processed_query]"
   ]
  },
  {
   "cell_type": "code",
   "execution_count": 37,
   "metadata": {},
   "outputs": [],
   "source": [
    "# max_ngram_length = 3 if len(processed_query.split())>=3 else len(processed_query.split())\n",
    "\n",
    "# vectorizer = TfidfVectorizer(ngram_range=(1, max_ngram_length))\n",
    "\n",
    "vectorizer = TfidfVectorizer()\n",
    "\n",
    "tfidf_matrix = vectorizer.fit_transform(corpus)"
   ]
  },
  {
   "cell_type": "code",
   "execution_count": 38,
   "metadata": {},
   "outputs": [],
   "source": [
    "cosine_similarities = cosine_similarity(tfidf_matrix[-1], tfidf_matrix[:-1])"
   ]
  },
  {
   "cell_type": "code",
   "execution_count": 39,
   "metadata": {},
   "outputs": [],
   "source": [
    "similarity_scores = cosine_similarities.flatten()"
   ]
  },
  {
   "cell_type": "code",
   "execution_count": 40,
   "metadata": {},
   "outputs": [],
   "source": [
    "top_k_indices = similarity_scores.argsort()[:-6:-1]  #[-5:][::-1]"
   ]
  },
  {
   "cell_type": "code",
   "execution_count": 41,
   "metadata": {},
   "outputs": [
    {
     "data": {
      "text/plain": [
       "array([0.3238558 , 0.270665  , 0.2610231 , 0.24801757, 0.23625421])"
      ]
     },
     "execution_count": 41,
     "metadata": {},
     "output_type": "execute_result"
    }
   ],
   "source": [
    "similarity_scores[top_k_indices]"
   ]
  },
  {
   "cell_type": "code",
   "execution_count": 42,
   "metadata": {},
   "outputs": [
    {
     "data": {
      "text/html": [
       "<div>\n",
       "<style scoped>\n",
       "    .dataframe tbody tr th:only-of-type {\n",
       "        vertical-align: middle;\n",
       "    }\n",
       "\n",
       "    .dataframe tbody tr th {\n",
       "        vertical-align: top;\n",
       "    }\n",
       "\n",
       "    .dataframe thead th {\n",
       "        text-align: right;\n",
       "    }\n",
       "</style>\n",
       "<table border=\"1\" class=\"dataframe\">\n",
       "  <thead>\n",
       "    <tr style=\"text-align: right;\">\n",
       "      <th></th>\n",
       "      <th>restaurantName</th>\n",
       "      <th>address</th>\n",
       "      <th>city</th>\n",
       "      <th>postalCode</th>\n",
       "      <th>country</th>\n",
       "      <th>priceRange</th>\n",
       "      <th>cuisineType</th>\n",
       "      <th>description</th>\n",
       "      <th>facilitiesServices</th>\n",
       "      <th>creditCards</th>\n",
       "      <th>phoneNumber</th>\n",
       "      <th>website</th>\n",
       "    </tr>\n",
       "  </thead>\n",
       "  <tbody>\n",
       "    <tr>\n",
       "      <th>1241</th>\n",
       "      <td>Saur</td>\n",
       "      <td>via Filippo Turati 8</td>\n",
       "      <td>Barco</td>\n",
       "      <td>25034</td>\n",
       "      <td>Italy</td>\n",
       "      <td>€€</td>\n",
       "      <td>Italian Contemporary</td>\n",
       "      <td>In a tiny rural village, this contemporary, al...</td>\n",
       "      <td>['Air conditioning', 'Terrace', 'Wheelchair ac...</td>\n",
       "      <td>['Mastercard', 'Visa']</td>\n",
       "      <td>+39 030 941149</td>\n",
       "      <td>https://ristorantesaur.it</td>\n",
       "    </tr>\n",
       "    <tr>\n",
       "      <th>230</th>\n",
       "      <td>Razzo</td>\n",
       "      <td>via Andrea Doria 17/f</td>\n",
       "      <td>Turin</td>\n",
       "      <td>10123</td>\n",
       "      <td>Italy</td>\n",
       "      <td>€€</td>\n",
       "      <td>Modern Cuisine, Mediterranean Cuisine</td>\n",
       "      <td>A quiet restaurant with a relaxed, young and m...</td>\n",
       "      <td>['Air conditioning', 'Terrace', 'Wheelchair ac...</td>\n",
       "      <td>['Amex', 'Dinersclub', 'Mastercard', 'Visa']</td>\n",
       "      <td>+39 011 020 1580</td>\n",
       "      <td>https://vadoarazzo.it/</td>\n",
       "    </tr>\n",
       "    <tr>\n",
       "      <th>749</th>\n",
       "      <td>La Botte</td>\n",
       "      <td>via Giuseppe Garibaldi 8</td>\n",
       "      <td>Stresa</td>\n",
       "      <td>28838</td>\n",
       "      <td>Italy</td>\n",
       "      <td>€€</td>\n",
       "      <td>Modern Cuisine</td>\n",
       "      <td>A modern and welcoming contemporary bistro sit...</td>\n",
       "      <td>['Air conditioning', 'Wheelchair access']</td>\n",
       "      <td>['Mastercard', 'Visa']</td>\n",
       "      <td>+39 0323 30462</td>\n",
       "      <td>http://www.trattorialabottestresa.it</td>\n",
       "    </tr>\n",
       "    <tr>\n",
       "      <th>86</th>\n",
       "      <td>Piccolo Lord</td>\n",
       "      <td>corso San Maurizio 69 bis/g</td>\n",
       "      <td>Turin</td>\n",
       "      <td>10124</td>\n",
       "      <td>Italy</td>\n",
       "      <td>€€</td>\n",
       "      <td>Mediterranean Cuisine, Seasonal Cuisine</td>\n",
       "      <td>Professional service in a welcoming, modern re...</td>\n",
       "      <td>['Air conditioning']</td>\n",
       "      <td>['Amex', 'Maestrocard', 'Mastercard', 'Visa']</td>\n",
       "      <td>+39 011 836145</td>\n",
       "      <td>https://www.ristorantepiccololord.it/</td>\n",
       "    </tr>\n",
       "    <tr>\n",
       "      <th>1581</th>\n",
       "      <td>La Valle</td>\n",
       "      <td>via Umberto I 25</td>\n",
       "      <td>località Valle Sauglio</td>\n",
       "      <td>Trofarello</td>\n",
       "      <td>10028</td>\n",
       "      <td>€€€</td>\n",
       "      <td>Contemporary</td>\n",
       "      <td>A well - run restaurant in a quiet area just o...</td>\n",
       "      <td>['Air conditioning', 'Interesting wine list', ...</td>\n",
       "      <td>['Amex', 'Mastercard', 'Visa']</td>\n",
       "      <td>+39 011 649 9238</td>\n",
       "      <td>https://www.ristorantelavalle.it/</td>\n",
       "    </tr>\n",
       "  </tbody>\n",
       "</table>\n",
       "</div>"
      ],
      "text/plain": [
       "     restaurantName                      address                     city  \\\n",
       "1241           Saur         via Filippo Turati 8                    Barco   \n",
       "230           Razzo        via Andrea Doria 17/f                    Turin   \n",
       "749        La Botte     via Giuseppe Garibaldi 8                   Stresa   \n",
       "86     Piccolo Lord  corso San Maurizio 69 bis/g                    Turin   \n",
       "1581       La Valle             via Umberto I 25   località Valle Sauglio   \n",
       "\n",
       "       postalCode country priceRange                              cuisineType  \\\n",
       "1241        25034   Italy         €€                     Italian Contemporary   \n",
       "230         10123   Italy         €€    Modern Cuisine, Mediterranean Cuisine   \n",
       "749         28838   Italy         €€                           Modern Cuisine   \n",
       "86          10124   Italy         €€  Mediterranean Cuisine, Seasonal Cuisine   \n",
       "1581   Trofarello   10028        €€€                             Contemporary   \n",
       "\n",
       "                                            description  \\\n",
       "1241  In a tiny rural village, this contemporary, al...   \n",
       "230   A quiet restaurant with a relaxed, young and m...   \n",
       "749   A modern and welcoming contemporary bistro sit...   \n",
       "86    Professional service in a welcoming, modern re...   \n",
       "1581  A well - run restaurant in a quiet area just o...   \n",
       "\n",
       "                                     facilitiesServices  \\\n",
       "1241  ['Air conditioning', 'Terrace', 'Wheelchair ac...   \n",
       "230   ['Air conditioning', 'Terrace', 'Wheelchair ac...   \n",
       "749           ['Air conditioning', 'Wheelchair access']   \n",
       "86                                 ['Air conditioning']   \n",
       "1581  ['Air conditioning', 'Interesting wine list', ...   \n",
       "\n",
       "                                        creditCards       phoneNumber  \\\n",
       "1241                         ['Mastercard', 'Visa']    +39 030 941149   \n",
       "230    ['Amex', 'Dinersclub', 'Mastercard', 'Visa']  +39 011 020 1580   \n",
       "749                          ['Mastercard', 'Visa']    +39 0323 30462   \n",
       "86    ['Amex', 'Maestrocard', 'Mastercard', 'Visa']    +39 011 836145   \n",
       "1581                 ['Amex', 'Mastercard', 'Visa']  +39 011 649 9238   \n",
       "\n",
       "                                    website  \n",
       "1241              https://ristorantesaur.it  \n",
       "230                  https://vadoarazzo.it/  \n",
       "749    http://www.trattorialabottestresa.it  \n",
       "86    https://www.ristorantepiccololord.it/  \n",
       "1581      https://www.ristorantelavalle.it/  "
      ]
     },
     "execution_count": 42,
     "metadata": {},
     "output_type": "execute_result"
    }
   ],
   "source": [
    "df.loc[top_k_indices,:]"
   ]
  },
  {
   "cell_type": "code",
   "execution_count": 43,
   "metadata": {},
   "outputs": [
    {
     "data": {
      "text/plain": [
       "array(['In a tiny rural village, this contemporary, almost minimalist-style restaurant serves modern cuisine with an emphasis on seasonal, regional produce.',\n",
       "       'A quiet restaurant with a relaxed, young and modern feel serving contemporary cuisine prepared from seasonal, regional products. Charming romantic outdoor area with soft lighting.',\n",
       "       'A modern and welcoming contemporary bistro situated in the heart of Stresa’s historic centre. Run by an entire family, the restaurant serves modern and imaginative fish and meat dishes where the focus is always on seasonal ingredients. The interesting wine list also includes a selection of wines by the glass.',\n",
       "       'Professional service in a welcoming, modern restaurant run by a young couple. He works in the kitchen while she (having also worked as a chef in the past) runs the front of house. Delicious Mediterranean cuisine with a seasonal focus.',\n",
       "       'A well - run restaurant in a quiet area just outside the village, where the owner - chef serves modern cuisine with the occasional regional influence. Careful attention is given to the use of seasonal produce and natural herbs, and there is a small selection of fish - based dishes.'],\n",
       "      dtype=object)"
      ]
     },
     "execution_count": 43,
     "metadata": {},
     "output_type": "execute_result"
    }
   ],
   "source": [
    "df.loc[top_k_indices,'description'].values"
   ]
  },
  {
   "cell_type": "code",
   "execution_count": null,
   "metadata": {},
   "outputs": [],
   "source": []
  },
  {
   "cell_type": "code",
   "execution_count": null,
   "metadata": {},
   "outputs": [],
   "source": []
  },
  {
   "cell_type": "code",
   "execution_count": null,
   "metadata": {},
   "outputs": [],
   "source": []
  },
  {
   "cell_type": "code",
   "execution_count": null,
   "metadata": {},
   "outputs": [],
   "source": []
  },
  {
   "cell_type": "code",
   "execution_count": null,
   "metadata": {},
   "outputs": [],
   "source": []
  }
 ],
 "metadata": {
  "kernelspec": {
   "display_name": "base",
   "language": "python",
   "name": "python3"
  },
  "language_info": {
   "codemirror_mode": {
    "name": "ipython",
    "version": 3
   },
   "file_extension": ".py",
   "mimetype": "text/x-python",
   "name": "python",
   "nbconvert_exporter": "python",
   "pygments_lexer": "ipython3",
   "version": "3.8.5"
  }
 },
 "nbformat": 4,
 "nbformat_minor": 2
}
