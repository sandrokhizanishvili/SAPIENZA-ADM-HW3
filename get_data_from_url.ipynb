{
 "cells": [
  {
   "cell_type": "code",
   "execution_count": 1,
   "metadata": {},
   "outputs": [],
   "source": [
    "import pandas as pd\n",
    "from bs4 import BeautifulSoup\n",
    "import requests\n",
    "\n",
    "from tqdm.notebook import tqdm\n",
    "\n",
    "import time\n",
    "\n",
    "import asyncio\n",
    "import aiohttp\n",
    "import random\n",
    "import nest_asyncio\n",
    "import aiofiles\n",
    "\n",
    "import os"
   ]
  },
  {
   "cell_type": "code",
   "execution_count": 2,
   "metadata": {},
   "outputs": [],
   "source": [
    "# get connection\n",
    "cnt = requests.get(\"https://guide.michelin.com/en/it/restaurants\")"
   ]
  },
  {
   "cell_type": "code",
   "execution_count": 3,
   "metadata": {},
   "outputs": [],
   "source": [
    "# get content\n",
    "soup = BeautifulSoup(cnt.content, features=\"lxml\")"
   ]
  },
  {
   "cell_type": "code",
   "execution_count": null,
   "metadata": {},
   "outputs": [],
   "source": [
    "# save html\n",
    "f = open(\"source.html\", \"w\")\n",
    "f.write(soup.prettify())\n",
    "f.close()"
   ]
  },
  {
   "cell_type": "code",
   "execution_count": 170,
   "metadata": {},
   "outputs": [],
   "source": [
    "# find all ul tags, where class = 'pagination'\n",
    "ul = soup.find_all('ul', {'class': 'pagination'})[0]"
   ]
  },
  {
   "cell_type": "code",
   "execution_count": 171,
   "metadata": {},
   "outputs": [],
   "source": [
    "page_urls = []\n",
    "for element in ul.find_all('a')[:-1]:\n",
    "    page_urls.append('https://guide.michelin.com' + element['href'])"
   ]
  },
  {
   "cell_type": "code",
   "execution_count": null,
   "metadata": {},
   "outputs": [
    {
     "data": {
      "application/vnd.jupyter.widget-view+json": {
       "model_id": "b774640987fd415688ed1ed47a43e027",
       "version_major": 2,
       "version_minor": 0
      },
      "text/plain": [
       "HBox(children=(HTML(value=''), FloatProgress(value=0.0, max=10.0), HTML(value='')))"
      ]
     },
     "metadata": {},
     "output_type": "display_data"
    },
    {
     "name": "stdout",
     "output_type": "stream",
     "text": [
      "\n"
     ]
    }
   ],
   "source": [
    "# Add missing pages, will cause URL duplications!!! \n",
    "for url in tqdm(page_urls[9:]):\n",
    "\n",
    "    # get connection\n",
    "    cnt = requests.get(url)\n",
    "\n",
    "    # get content\n",
    "    soup = BeautifulSoup(cnt.content, features=\"lxml\")  \n",
    "\n",
    "    # find all ul tags, where class = 'pagination'\n",
    "    ul = soup.find_all('ul', {'class': 'pagination'})[0]\n",
    "\n",
    "    for element in ul.find_all('a'):\n",
    "        page_urls.append('https://guide.michelin.com' + element['href'])\n",
    "\n",
    "    time.sleep(3)"
   ]
  },
  {
   "cell_type": "code",
   "execution_count": 181,
   "metadata": {},
   "outputs": [],
   "source": [
    "# remove duplicated elements\n",
    "page_urls = list(set(page_urls))"
   ]
  },
  {
   "cell_type": "code",
   "execution_count": 186,
   "metadata": {},
   "outputs": [],
   "source": [
    "# sort URLs\n",
    "page_urls = sorted(page_urls, key=lambda url: int(url.split('/')[-1]) if url.split('/')[-1].isdigit() else 1)"
   ]
  },
  {
   "cell_type": "code",
   "execution_count": null,
   "metadata": {},
   "outputs": [
    {
     "data": {
      "application/vnd.jupyter.widget-view+json": {
       "model_id": "29345dde806b4a13913a636e99a2b616",
       "version_major": 2,
       "version_minor": 0
      },
      "text/plain": [
       "HBox(children=(HTML(value=''), FloatProgress(value=0.0), HTML(value='')))"
      ]
     },
     "metadata": {},
     "output_type": "display_data"
    },
    {
     "name": "stdout",
     "output_type": "stream",
     "text": [
      "# of restaurants on page 1 is 20\n",
      "# of restaurants on page 2 is 20\n",
      "# of restaurants on page 3 is 20\n",
      "# of restaurants on page 4 is 20\n",
      "# of restaurants on page 5 is 20\n",
      "# of restaurants on page 6 is 20\n",
      "# of restaurants on page 7 is 20\n",
      "# of restaurants on page 8 is 20\n",
      "# of restaurants on page 9 is 20\n",
      "# of restaurants on page 10 is 20\n",
      "# of restaurants on page 11 is 20\n",
      "# of restaurants on page 12 is 20\n",
      "# of restaurants on page 13 is 20\n",
      "# of restaurants on page 14 is 20\n",
      "# of restaurants on page 15 is 20\n",
      "# of restaurants on page 16 is 20\n",
      "# of restaurants on page 17 is 20\n",
      "# of restaurants on page 18 is 20\n",
      "# of restaurants on page 19 is 20\n",
      "# of restaurants on page 20 is 20\n",
      "# of restaurants on page 21 is 20\n",
      "# of restaurants on page 22 is 20\n",
      "# of restaurants on page 23 is 20\n",
      "# of restaurants on page 24 is 20\n",
      "# of restaurants on page 25 is 20\n",
      "# of restaurants on page 26 is 20\n",
      "# of restaurants on page 27 is 20\n",
      "# of restaurants on page 28 is 20\n",
      "# of restaurants on page 29 is 20\n",
      "# of restaurants on page 30 is 20\n",
      "# of restaurants on page 31 is 20\n",
      "# of restaurants on page 32 is 20\n",
      "# of restaurants on page 33 is 20\n",
      "# of restaurants on page 34 is 20\n",
      "# of restaurants on page 35 is 20\n",
      "# of restaurants on page 36 is 20\n",
      "# of restaurants on page 37 is 20\n",
      "# of restaurants on page 38 is 20\n",
      "# of restaurants on page 39 is 20\n",
      "# of restaurants on page 40 is 20\n",
      "# of restaurants on page 41 is 20\n",
      "# of restaurants on page 42 is 20\n",
      "# of restaurants on page 43 is 20\n",
      "# of restaurants on page 44 is 20\n",
      "# of restaurants on page 45 is 20\n",
      "# of restaurants on page 46 is 20\n",
      "# of restaurants on page 47 is 20\n",
      "# of restaurants on page 48 is 20\n",
      "# of restaurants on page 49 is 20\n",
      "# of restaurants on page 50 is 20\n",
      "# of restaurants on page 51 is 20\n",
      "# of restaurants on page 52 is 20\n",
      "# of restaurants on page 53 is 20\n",
      "# of restaurants on page 54 is 20\n",
      "# of restaurants on page 55 is 20\n",
      "# of restaurants on page 56 is 20\n",
      "# of restaurants on page 57 is 20\n",
      "# of restaurants on page 58 is 20\n",
      "# of restaurants on page 59 is 20\n",
      "# of restaurants on page 60 is 20\n",
      "# of restaurants on page 61 is 20\n",
      "# of restaurants on page 62 is 20\n",
      "# of restaurants on page 63 is 20\n",
      "# of restaurants on page 64 is 20\n",
      "# of restaurants on page 65 is 20\n",
      "# of restaurants on page 66 is 20\n",
      "# of restaurants on page 67 is 20\n",
      "# of restaurants on page 68 is 20\n",
      "# of restaurants on page 69 is 20\n",
      "# of restaurants on page 70 is 20\n",
      "# of restaurants on page 71 is 20\n",
      "# of restaurants on page 72 is 20\n",
      "# of restaurants on page 73 is 20\n",
      "# of restaurants on page 74 is 20\n",
      "# of restaurants on page 75 is 20\n",
      "# of restaurants on page 76 is 20\n",
      "# of restaurants on page 77 is 20\n",
      "# of restaurants on page 78 is 20\n",
      "# of restaurants on page 79 is 20\n",
      "# of restaurants on page 80 is 20\n",
      "# of restaurants on page 81 is 20\n",
      "# of restaurants on page 82 is 20\n",
      "# of restaurants on page 83 is 20\n",
      "# of restaurants on page 84 is 20\n",
      "# of restaurants on page 85 is 20\n",
      "# of restaurants on page 86 is 20\n",
      "# of restaurants on page 87 is 20\n",
      "# of restaurants on page 88 is 20\n",
      "# of restaurants on page 89 is 20\n",
      "# of restaurants on page 90 is 20\n",
      "# of restaurants on page 91 is 20\n",
      "# of restaurants on page 92 is 20\n",
      "# of restaurants on page 93 is 20\n",
      "# of restaurants on page 94 is 20\n",
      "# of restaurants on page 95 is 20\n",
      "# of restaurants on page 96 is 20\n",
      "# of restaurants on page 97 is 20\n",
      "# of restaurants on page 98 is 20\n",
      "# of restaurants on page 99 is 20\n",
      "# of restaurants on page 100 is 3\n",
      "\n"
     ]
    }
   ],
   "source": [
    "restaurant_urls = []\n",
    "\n",
    "page = 1\n",
    "for url in tqdm(page_urls):\n",
    "    \n",
    "    # get connection\n",
    "    cnt = requests.get(url)\n",
    "\n",
    "    # get content\n",
    "    soup = BeautifulSoup(cnt.content, features=\"lxml\")\n",
    "    \n",
    "    # find all div tags, where class = card__menu selection-card box-placeholder js-restaurant__list_item js-match-height js-map\n",
    "    div = soup.find_all('div', {'class': 'card__menu selection-card box-placeholder js-restaurant__list_item js-match-height js-map'})\n",
    "    print(f\"# of restaurants on page {page} is {len(div)}\")\n",
    "\n",
    "    for element in div:\n",
    "        restaurant_urls.append('https://guide.michelin.com' + element.select_one('a')['href'])\n",
    "\n",
    "    page += 1\n",
    "\n",
    "    time.sleep(3)"
   ]
  },
  {
   "cell_type": "code",
   "execution_count": 190,
   "metadata": {},
   "outputs": [
    {
     "data": {
      "text/plain": [
       "(1983, 1983)"
      ]
     },
     "execution_count": 190,
     "metadata": {},
     "output_type": "execute_result"
    }
   ],
   "source": [
    "len(restaurant_urls), len(set(restaurant_urls))"
   ]
  },
  {
   "cell_type": "code",
   "execution_count": null,
   "metadata": {},
   "outputs": [],
   "source": [
    "# save restaurant URLs\n",
    "with open(\"restaurant_urls.txt\", \"w\") as file:\n",
    "    for url in restaurant_urls:\n",
    "        file.write(url + \"\\n\")"
   ]
  },
  {
   "cell_type": "code",
   "execution_count": 7,
   "metadata": {},
   "outputs": [],
   "source": [
    "# Load restraurant URLs\n",
    "with open(\"restaurant_urls.txt\", \"r\") as file:\n",
    "    restaurant_urls = [line.strip() for line in file]"
   ]
  },
  {
   "cell_type": "code",
   "execution_count": null,
   "metadata": {},
   "outputs": [],
   "source": [
    "# Apply nest_asyncio to allow async calls in Jupyter\n",
    "nest_asyncio.apply()\n",
    "\n",
    "# Function to fetch HTML content from a single URL\n",
    "async def fetch_html(url: str, n_rest: int):\n",
    "    try:\n",
    "\n",
    "        headers = {\n",
    "            \"User-Agent\": random.choice([\n",
    "                \"Mozilla/5.0 (Windows NT 10.0; Win64; x64) AppleWebKit/537.36 (KHTML, like Gecko) Chrome/58.0.3029.110 Safari/537.3\", \n",
    "                \"Mozilla/5.0 (Windows NT 10.0; Win64; x64) AppleWebKit/537.36 (KHTML, like Gecko) Chrome/89.0.4389.82 Safari/537.36\",\n",
    "                \"Mozilla/5.0 (Macintosh; Intel Mac OS X 10_15_7) AppleWebKit/537.36 (KHTML, like Gecko) Chrome/91.0.4472.114 Safari/537.36\",\n",
    "            ])\n",
    "        }\n",
    "        \n",
    "        # Create an asynchronous session to send the HTTP GET request\n",
    "        async with aiohttp.ClientSession() as session:\n",
    "            # Send the GET request to the URL\n",
    "            async with session.get(url, headers=headers) as response:\n",
    "                # Delay between requests to mimic human behavior (random delay)\n",
    "                await asyncio.sleep(random.uniform(1, 2))\n",
    "\n",
    "                # Read the response body as text\n",
    "                html = await response.text()\n",
    "\n",
    "                # Beautify the HTML content using BeautifulSoup\n",
    "                text = BeautifulSoup(html, features='lxml').prettify()\n",
    "\n",
    "                # Create directories to store HTML files (organized by page number)\n",
    "                # Here, we group the HTML files into pages of 20\n",
    "                page = n_rest//20 + 1\n",
    "                os.makedirs(f\"page {page}\", exist_ok=True)\n",
    "\n",
    "                # Write the formatted HTML content to a file in the appropriate folder\n",
    "                async with aiofiles.open(f\"page {page}/restaurant_{n_rest+1}.html\", \"w\") as f:\n",
    "                    await f.write(text)\n",
    "                \n",
    "                return None # Return None when the task is successfully completed\n",
    "            \n",
    "    # If there's an error (e.g., network issue, invalid URL), print the error and return the URL            \n",
    "    except Exception as e:\n",
    "        print(f'For {url} error: {e}')\n",
    "        return url\n",
    "\n",
    "# Function to fetch HTML from a list of URLs asynchronously\n",
    "async def fetch_all_html(urls: list):\n",
    "    # Create a list of tasks, each task fetching a single URL\n",
    "    tasks = [fetch_html(url, index) for index, url in enumerate(urls)]\n",
    "\n",
    "    # Gather all tasks and execute them concurrently\n",
    "    html_pages = await asyncio.gather(*tasks)"
   ]
  },
  {
   "cell_type": "code",
   "execution_count": null,
   "metadata": {},
   "outputs": [],
   "source": [
    "# Run the asynchronous HTML fetching function\n",
    "asyncio.run(fetch_all_html(restaurant_urls))"
   ]
  },
  {
   "cell_type": "code",
   "execution_count": null,
   "metadata": {},
   "outputs": [],
   "source": []
  },
  {
   "cell_type": "code",
   "execution_count": null,
   "metadata": {},
   "outputs": [],
   "source": []
  },
  {
   "cell_type": "code",
   "execution_count": null,
   "metadata": {},
   "outputs": [],
   "source": []
  },
  {
   "cell_type": "code",
   "execution_count": null,
   "metadata": {},
   "outputs": [],
   "source": []
  },
  {
   "cell_type": "code",
   "execution_count": null,
   "metadata": {},
   "outputs": [],
   "source": []
  },
  {
   "cell_type": "code",
   "execution_count": null,
   "metadata": {},
   "outputs": [],
   "source": []
  },
  {
   "cell_type": "code",
   "execution_count": null,
   "metadata": {},
   "outputs": [],
   "source": []
  },
  {
   "cell_type": "code",
   "execution_count": null,
   "metadata": {},
   "outputs": [],
   "source": []
  },
  {
   "cell_type": "code",
   "execution_count": null,
   "metadata": {},
   "outputs": [],
   "source": []
  },
  {
   "cell_type": "code",
   "execution_count": null,
   "metadata": {},
   "outputs": [],
   "source": []
  }
 ],
 "metadata": {
  "kernelspec": {
   "display_name": "base",
   "language": "python",
   "name": "python3"
  },
  "language_info": {
   "codemirror_mode": {
    "name": "ipython",
    "version": 3
   },
   "file_extension": ".py",
   "mimetype": "text/x-python",
   "name": "python",
   "nbconvert_exporter": "python",
   "pygments_lexer": "ipython3",
   "version": "3.8.5"
  }
 },
 "nbformat": 4,
 "nbformat_minor": 2
}
